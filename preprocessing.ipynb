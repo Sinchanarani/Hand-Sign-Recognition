{
 "cells": [
  {
   "cell_type": "code",
   "execution_count": 1,
   "id": "02c1536c",
   "metadata": {},
   "outputs": [],
   "source": [
    "import os\n",
    "import cv2\n",
    "import numpy as np\n",
    "import pandas as pd\n",
    "from PIL import Image\n",
    "from sklearn.preprocessing import MinMaxScaler\n",
    "import xml.etree.ElementTree as ET\n",
    "\n"
   ]
  },
  {
   "cell_type": "code",
   "execution_count": 2,
   "id": "af999353",
   "metadata": {},
   "outputs": [],
   "source": [
    "data_directory = \"collectedimages\"\n",
    "output_directory = \"preprocessed\"\n"
   ]
  },
  {
   "cell_type": "code",
   "execution_count": 3,
   "id": "d327d8c2",
   "metadata": {},
   "outputs": [],
   "source": [
    "image_paths = []\n",
    "labels = []"
   ]
  },
  {
   "cell_type": "code",
   "execution_count": 4,
   "id": "06c7b0c4",
   "metadata": {},
   "outputs": [],
   "source": [
    "for filename in os.listdir(data_directory):\n",
    "    if filename.endswith(\".xml\"):\n",
    "        # Construct the full path to the XML file\n",
    "        xml_path = os.path.join(data_directory, filename)\n",
    "\n",
    "        # Parse the XML file\n",
    "        tree = ET.parse(xml_path)\n",
    "        root = tree.getroot()\n",
    "\n",
    "        # Extract the image path from the XML file\n",
    "        image_filename = root.find(\"filename\").text\n",
    "        image_path = os.path.join(data_directory, image_filename)\n",
    "\n",
    "        # Extract the label from the XML file\n",
    "        label = root.find(\"object\").find(\"name\").text\n",
    "\n",
    "        # Append the image path and label to the lists\n",
    "        image_paths.append(image_path)\n",
    "        labels.append(label)\n"
   ]
  },
  {
   "cell_type": "code",
   "execution_count": 5,
   "id": "f1269517",
   "metadata": {},
   "outputs": [],
   "source": [
    "data = pd.DataFrame({\"Image_Path\": image_paths, \"Label\": labels})\n"
   ]
  },
  {
   "cell_type": "code",
   "execution_count": 6,
   "id": "e2d36c13",
   "metadata": {},
   "outputs": [],
   "source": [
    "preprocessed_images = []\n",
    "\n",
    "for image_path in image_paths:\n",
    "    # Load the image using PIL\n",
    "    image = Image.open(image_path)\n",
    "    \n",
    "    # Resize the image to 64x64 pixels\n",
    "    image = image.resize((64, 64))\n",
    "    \n",
    "    # Convert the image to grayscale\n",
    "    image = image.convert(\"L\")\n",
    "    \n",
    "    # Convert the image to a NumPy array\n",
    "    image_array = np.array(image)\n",
    "    \n",
    "    # Perform edge detection using the Canny Edge Detection algorithm\n",
    "    edges = cv2.Canny(image_array, 100, 200)\n",
    "    \n",
    "    # Normalize the pixel values between 0 and 1\n",
    "    scaler = MinMaxScaler()\n",
    "    normalized_image = scaler.fit_transform(edges)\n",
    "    \n",
    "    # Append the preprocessed image to the list\n",
    "    preprocessed_images.append(normalized_image)\n"
   ]
  },
  {
   "cell_type": "code",
   "execution_count": 16,
   "id": "ac5e3ac5",
   "metadata": {},
   "outputs": [
    {
     "ename": "FileNotFoundError",
     "evalue": "[Errno 2] No such file or directory: 'preprocessed\\\\preprocessed_0.png'",
     "output_type": "error",
     "traceback": [
      "\u001b[1;31m---------------------------------------------------------------------------\u001b[0m",
      "\u001b[1;31mFileNotFoundError\u001b[0m                         Traceback (most recent call last)",
      "Cell \u001b[1;32mIn[16], line 9\u001b[0m\n\u001b[0;32m      6\u001b[0m preprocessed_image \u001b[38;5;241m=\u001b[39m Image\u001b[38;5;241m.\u001b[39mfromarray((preprocessed_image \u001b[38;5;241m*\u001b[39m \u001b[38;5;241m255\u001b[39m)\u001b[38;5;241m.\u001b[39mastype(np\u001b[38;5;241m.\u001b[39muint8))\n\u001b[0;32m      8\u001b[0m \u001b[38;5;66;03m# Save the preprocessed image\u001b[39;00m\n\u001b[1;32m----> 9\u001b[0m \u001b[43mpreprocessed_image\u001b[49m\u001b[38;5;241;43m.\u001b[39;49m\u001b[43msave\u001b[49m\u001b[43m(\u001b[49m\u001b[43moutput_path\u001b[49m\u001b[43m)\u001b[49m\n",
      "File \u001b[1;32m~\\AppData\\Local\\Programs\\Python\\Python310\\lib\\site-packages\\PIL\\Image.py:2429\u001b[0m, in \u001b[0;36mImage.save\u001b[1;34m(self, fp, format, **params)\u001b[0m\n\u001b[0;32m   2427\u001b[0m         fp \u001b[38;5;241m=\u001b[39m builtins\u001b[38;5;241m.\u001b[39mopen(filename, \u001b[38;5;124m\"\u001b[39m\u001b[38;5;124mr+b\u001b[39m\u001b[38;5;124m\"\u001b[39m)\n\u001b[0;32m   2428\u001b[0m     \u001b[38;5;28;01melse\u001b[39;00m:\n\u001b[1;32m-> 2429\u001b[0m         fp \u001b[38;5;241m=\u001b[39m \u001b[43mbuiltins\u001b[49m\u001b[38;5;241;43m.\u001b[39;49m\u001b[43mopen\u001b[49m\u001b[43m(\u001b[49m\u001b[43mfilename\u001b[49m\u001b[43m,\u001b[49m\u001b[43m \u001b[49m\u001b[38;5;124;43m\"\u001b[39;49m\u001b[38;5;124;43mw+b\u001b[39;49m\u001b[38;5;124;43m\"\u001b[39;49m\u001b[43m)\u001b[49m\n\u001b[0;32m   2431\u001b[0m \u001b[38;5;28;01mtry\u001b[39;00m:\n\u001b[0;32m   2432\u001b[0m     save_handler(\u001b[38;5;28mself\u001b[39m, fp, filename)\n",
      "\u001b[1;31mFileNotFoundError\u001b[0m: [Errno 2] No such file or directory: 'preprocessed\\\\preprocessed_0.png'"
     ]
    }
   ],
   "source": [
    "for i, preprocessed_image in enumerate(preprocessed_images):\n",
    "    # Construct the output file path\n",
    "    output_path = os.path.join(output_directory, f\"preprocessed_{i}.png\")\n",
    "    \n",
    "    # Convert the preprocessed image array to PIL image\n",
    "    \n",
    "    preprocessed_image = Image.fromarray((preprocessed_image * 255).astype(np.uint8))\n",
    "    \n",
    "    # Save the preprocessed image\n",
    "    preprocessed_image.save(output_path)\n"
   ]
  },
  {
   "cell_type": "code",
   "execution_count": null,
   "id": "1b83497d",
   "metadata": {},
   "outputs": [],
   "source": []
  }
 ],
 "metadata": {
  "kernelspec": {
   "display_name": "Python 3 (ipykernel)",
   "language": "python",
   "name": "python3"
  },
  "language_info": {
   "codemirror_mode": {
    "name": "ipython",
    "version": 3
   },
   "file_extension": ".py",
   "mimetype": "text/x-python",
   "name": "python",
   "nbconvert_exporter": "python",
   "pygments_lexer": "ipython3",
   "version": "3.10.7"
  }
 },
 "nbformat": 4,
 "nbformat_minor": 5
}
